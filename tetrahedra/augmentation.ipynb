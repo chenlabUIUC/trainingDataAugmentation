{
 "cells": [
  {
   "cell_type": "code",
   "execution_count": 1,
   "metadata": {},
   "outputs": [],
   "source": [
    "#Training data augmentation\n",
    "#Written by Lehan Yao from Qian Chen Group, MatSE, UIUC\n",
    "#Sept. 21, 2021"
   ]
  },
  {
   "cell_type": "code",
   "execution_count": 2,
   "metadata": {},
   "outputs": [],
   "source": [
    "import cv2\n",
    "import numpy as np\n",
    "import glob\n",
    "import os\n",
    "from tensorflow.keras.preprocessing.image import ImageDataGenerator"
   ]
  },
  {
   "cell_type": "code",
   "execution_count": 3,
   "metadata": {},
   "outputs": [],
   "source": [
    "labelPath = 'manual label'\n",
    "nameList = [os.path.basename(x) for x in glob.glob(labelPath+'/image/*.tif')]\n",
    "stack = np.zeros([len(nameList),512,512,3]) #container for storing the labels and images\n",
    "\n",
    "i = 0\n",
    "for name in nameList: #read the labels and images and store them in RGB channels\n",
    "    I_image = cv2.imread(labelPath + '/image/' + name )\n",
    "    mask = cv2.imread(labelPath + '/mask/' + name)\n",
    "    stack[i,:,:,0] = cv2.cvtColor(I_image, cv2.COLOR_BGR2GRAY)\n",
    "    stack[i,:,:,1] = mask[:,:,0]\n",
    "    stack[i,:,:,2] = mask[:,:,2]\n",
    "    i += 1"
   ]
  },
  {
   "cell_type": "code",
   "execution_count": 9,
   "metadata": {
    "scrolled": true
   },
   "outputs": [],
   "source": [
    "volume = 1000 #the number of images in the augmented dataset\n",
    "data_gen_args_train = dict(fill_mode = 'reflect', rotation_range=360, zoom_range=0.1, horizontal_flip = True, vertical_flip = True, brightness_range = (0.8,1))\n",
    "data_gen_args_label = dict(fill_mode = 'reflect', rotation_range=360, zoom_range=0.1, horizontal_flip = True, vertical_flip = True)\n",
    "\n",
    "datagen_train = ImageDataGenerator(**data_gen_args_train)\n",
    "datagen_label = ImageDataGenerator(**data_gen_args_label)\n",
    "seed = 1\n",
    "image_generator_train = datagen_train.flow(np.expand_dims(stack[:,:,:,0],3),seed=seed)\n",
    "empty = np.expand_dims(stack[:,:,:,0]*0,3) #since the label only contain two layers, a space holder is added into the 3rd channel\n",
    "image_generator_label = datagen_label.flow(np.concatenate([empty,stack[:,:,:,1:]],axis = 3),seed=seed)\n",
    "i = 0\n",
    "while (i < volume):\n",
    "    im = next(image_generator_train) # the generators generates multiple images per iteration. But with setting the same seed, only the first image of two generators seems to be the same\n",
    "    lb = next(image_generator_label) # the generators generates multiple images per iteration. But with setting the same seed, only the first image of two generators seems to be the same\n",
    "    t = im[0,:,:,0]/255\n",
    "    m1 = lb[0,:,:,1]/255\n",
    "    m2 = lb[0,:,:,2]/255\n",
    "    m3 = m1*0\n",
    "    m = np.stack([m1,m3,m2],2)*255\n",
    "    t = t*255\n",
    "    t = np.uint8(t)\n",
    "    m = np.uint8(m)\n",
    "    cv2.imwrite('train/'+str(i)+'.tif', t)\n",
    "    cv2.imwrite('label/'+str(i)+'.tif', m)\n",
    "    i += 1"
   ]
  }
 ],
 "metadata": {
  "kernelspec": {
   "display_name": "Python 3 (ipykernel)",
   "language": "python",
   "name": "python3"
  },
  "language_info": {
   "codemirror_mode": {
    "name": "ipython",
    "version": 3
   },
   "file_extension": ".py",
   "mimetype": "text/x-python",
   "name": "python",
   "nbconvert_exporter": "python",
   "pygments_lexer": "ipython3",
   "version": "3.7.13"
  }
 },
 "nbformat": 4,
 "nbformat_minor": 4
}
